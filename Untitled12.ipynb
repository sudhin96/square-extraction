{
 "cells": [
  {
   "cell_type": "code",
   "execution_count": null,
   "metadata": {},
   "outputs": [],
   "source": [
    "import cv2 as cv\n",
    "\n",
    "image = cv.imread(r'C:\\Users\\sudhin\\Downloads\\Python-Interview.jpg', -1)\n",
    "\n",
    "# convert to gray and binarize\n",
    "gray_img = cv.cvtColor(image, cv.COLOR_BGR2GRAY)\n",
    "binary_img = cv.adaptiveThreshold(gray_img, 255, cv.ADAPTIVE_THRESH_MEAN_C, cv.THRESH_BINARY, 9, 9)\n",
    "\n",
    "\n",
    "# note: erosion and dilation works on white forground\n",
    "binary_img = cv.bitwise_not(binary_img)\n",
    "\n",
    "# dilate the image     \n",
    "kernel = cv.getStructuringElement(cv.MORPH_RECT, (1,1))\n",
    "dilated_img = cv.morphologyEx(binary_img, cv.MORPH_DILATE, kernel,iterations=1)\n",
    "\n",
    "# find contours, discard contours which do not belong to a rectangle\n",
    "(cnts, _)= cv.findContours(dilated_img.copy(), cv.RETR_LIST, cv.CHAIN_APPROX_SIMPLE)\n",
    "\n",
    "# contours of interest to us\n",
    "sq_cnts = [] \n",
    "for cnt in cnts:\n",
    "    approx = cv.approxPolyDP(cnt,0.01*cv.arcLength(cnt,True),True)\n",
    "    if len(approx) == 4:\n",
    "      (x, y, w, h) = cv.boundingRect(cnt)\n",
    "      #fill remaining code here\n",
    "      arc = float(w) / h \n",
    "      if arc > 1.0 and arc <= 1.08:\n",
    "          cv.drawContours(image,[cnt], 0, (0,255,0), 3)\n",
    "          sq_cnts.append(cnt)\n",
    "\n",
    "          for i in range(len(sq_cnts)):\n",
    "            # find squares\n",
    "            (x, y, w, h) = cv.boundingRect(sq_cnts[i])\n",
    "            newimg = image[y:y+h,x:x+w] # crop the image   \n",
    "\n",
    "\n",
    "            #Write the image    \n",
    "            cv.imwrite(str(i)+'.jpg',newimg)\n",
    "            cv.imshow('img.jpg', newimg)\n",
    "\n",
    "\n",
    "cv.waitKey(0)\n",
    "cv.destroyAllWindows()"
   ]
  },
  {
   "cell_type": "code",
   "execution_count": null,
   "metadata": {},
   "outputs": [],
   "source": []
  }
 ],
 "metadata": {
  "kernelspec": {
   "display_name": "Python 3",
   "language": "python",
   "name": "python3"
  },
  "language_info": {
   "codemirror_mode": {
    "name": "ipython",
    "version": 3
   },
   "file_extension": ".py",
   "mimetype": "text/x-python",
   "name": "python",
   "nbconvert_exporter": "python",
   "pygments_lexer": "ipython3",
   "version": "3.6.8"
  }
 },
 "nbformat": 4,
 "nbformat_minor": 2
}
